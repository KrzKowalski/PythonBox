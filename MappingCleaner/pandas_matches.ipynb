{
 "cells": [
  {
   "cell_type": "code",
   "execution_count": 2,
   "metadata": {},
   "outputs": [],
   "source": [
    "%matplotlib inline"
   ]
  },
  {
   "cell_type": "code",
   "execution_count": 4,
   "metadata": {},
   "outputs": [],
   "source": [
    "import pandas as pd"
   ]
  },
  {
   "cell_type": "code",
   "execution_count": 6,
   "metadata": {},
   "outputs": [],
   "source": [
    "df = pd.read_csv('matches.csv', parse_dates=['date'])"
   ]
  },
  {
   "cell_type": "code",
   "execution_count": 17,
   "metadata": {},
   "outputs": [
    {
     "data": {
      "text/html": [
       "<div>\n",
       "<style scoped>\n",
       "    .dataframe tbody tr th:only-of-type {\n",
       "        vertical-align: middle;\n",
       "    }\n",
       "\n",
       "    .dataframe tbody tr th {\n",
       "        vertical-align: top;\n",
       "    }\n",
       "\n",
       "    .dataframe thead th {\n",
       "        text-align: right;\n",
       "    }\n",
       "</style>\n",
       "<table border=\"1\" class=\"dataframe\">\n",
       "  <thead>\n",
       "    <tr style=\"text-align: right;\">\n",
       "      <th></th>\n",
       "      <th>country</th>\n",
       "      <th>league</th>\n",
       "      <th>home_team</th>\n",
       "      <th>away_team</th>\n",
       "      <th>date</th>\n",
       "      <th>season</th>\n",
       "      <th>home_team_goal</th>\n",
       "      <th>away_team_goal</th>\n",
       "    </tr>\n",
       "  </thead>\n",
       "  <tbody>\n",
       "    <tr>\n",
       "      <th>16332</th>\n",
       "      <td>Poland</td>\n",
       "      <td>Poland Ekstraklasa</td>\n",
       "      <td>Arka Gdynia</td>\n",
       "      <td>Lechia Gdańsk</td>\n",
       "      <td>2011-05-01</td>\n",
       "      <td>2010/2011</td>\n",
       "      <td>2</td>\n",
       "      <td>2</td>\n",
       "    </tr>\n",
       "    <tr>\n",
       "      <th>16436</th>\n",
       "      <td>Poland</td>\n",
       "      <td>Poland Ekstraklasa</td>\n",
       "      <td>Lechia Gdańsk</td>\n",
       "      <td>Arka Gdynia</td>\n",
       "      <td>2010-10-17</td>\n",
       "      <td>2010/2011</td>\n",
       "      <td>1</td>\n",
       "      <td>0</td>\n",
       "    </tr>\n",
       "  </tbody>\n",
       "</table>\n",
       "</div>"
      ],
      "text/plain": [
       "      country              league      home_team      away_team       date  \\\n",
       "16332  Poland  Poland Ekstraklasa    Arka Gdynia  Lechia Gdańsk 2011-05-01   \n",
       "16436  Poland  Poland Ekstraklasa  Lechia Gdańsk    Arka Gdynia 2010-10-17   \n",
       "\n",
       "          season  home_team_goal  away_team_goal  \n",
       "16332  2010/2011               2               2  \n",
       "16436  2010/2011               1               0  "
      ]
     },
     "execution_count": 17,
     "metadata": {},
     "output_type": "execute_result"
    }
   ],
   "source": [
    "def filter_teams(df, team1, team2, years):\n",
    "    return df[\n",
    "        (\n",
    "            ((df.home_team==team1) & (df.away_team==team2)) | \n",
    "            ((df.home_team==team2) & (df.away_team==team1))\n",
    "        ) & df.date.dt.year.isin(years)\n",
    "    ]\n",
    "\n",
    "filter_teams(df, 'Arka Gdynia', 'Lechia Gdańsk', [2010, 2011, 2012, 2013, 2014, 2015])"
   ]
  },
  {
   "cell_type": "code",
   "execution_count": 19,
   "metadata": {},
   "outputs": [],
   "source": [
    "df['goal_difference'] = abs(df.home_team_goal - df.away_team_goal)"
   ]
  },
  {
   "cell_type": "code",
   "execution_count": 24,
   "metadata": {},
   "outputs": [
    {
     "data": {
      "text/html": [
       "<div>\n",
       "<style scoped>\n",
       "    .dataframe tbody tr th:only-of-type {\n",
       "        vertical-align: middle;\n",
       "    }\n",
       "\n",
       "    .dataframe tbody tr th {\n",
       "        vertical-align: top;\n",
       "    }\n",
       "\n",
       "    .dataframe thead th {\n",
       "        text-align: right;\n",
       "    }\n",
       "</style>\n",
       "<table border=\"1\" class=\"dataframe\">\n",
       "  <thead>\n",
       "    <tr style=\"text-align: right;\">\n",
       "      <th></th>\n",
       "      <th>country</th>\n",
       "      <th>league</th>\n",
       "      <th>home_team</th>\n",
       "      <th>away_team</th>\n",
       "      <th>date</th>\n",
       "      <th>season</th>\n",
       "      <th>home_team_goal</th>\n",
       "      <th>away_team_goal</th>\n",
       "      <th>goal_difference</th>\n",
       "    </tr>\n",
       "  </thead>\n",
       "  <tbody>\n",
       "    <tr>\n",
       "      <th>13898</th>\n",
       "      <td>Netherlands</td>\n",
       "      <td>Netherlands Eredivisie</td>\n",
       "      <td>PSV</td>\n",
       "      <td>Feyenoord</td>\n",
       "      <td>2010-10-24</td>\n",
       "      <td>2010/2011</td>\n",
       "      <td>10</td>\n",
       "      <td>0</td>\n",
       "      <td>10</td>\n",
       "    </tr>\n",
       "    <tr>\n",
       "      <th>7660</th>\n",
       "      <td>France</td>\n",
       "      <td>France Ligue 1</td>\n",
       "      <td>ES Troyes AC</td>\n",
       "      <td>Paris Saint-Germain</td>\n",
       "      <td>2016-03-13</td>\n",
       "      <td>2015/2016</td>\n",
       "      <td>0</td>\n",
       "      <td>9</td>\n",
       "      <td>9</td>\n",
       "    </tr>\n",
       "    <tr>\n",
       "      <th>20161</th>\n",
       "      <td>Scotland</td>\n",
       "      <td>Scotland Premier League</td>\n",
       "      <td>Celtic</td>\n",
       "      <td>Aberdeen</td>\n",
       "      <td>2010-11-06</td>\n",
       "      <td>2010/2011</td>\n",
       "      <td>9</td>\n",
       "      <td>0</td>\n",
       "      <td>9</td>\n",
       "    </tr>\n",
       "    <tr>\n",
       "      <th>9761</th>\n",
       "      <td>Germany</td>\n",
       "      <td>Germany 1. Bundesliga</td>\n",
       "      <td>FC Bayern Munich</td>\n",
       "      <td>Hamburger SV</td>\n",
       "      <td>2015-02-14</td>\n",
       "      <td>2014/2015</td>\n",
       "      <td>8</td>\n",
       "      <td>0</td>\n",
       "      <td>8</td>\n",
       "    </tr>\n",
       "    <tr>\n",
       "      <th>22984</th>\n",
       "      <td>Spain</td>\n",
       "      <td>Spain LIGA BBVA</td>\n",
       "      <td>FC Barcelona</td>\n",
       "      <td>CA Osasuna</td>\n",
       "      <td>2011-09-17</td>\n",
       "      <td>2011/2012</td>\n",
       "      <td>8</td>\n",
       "      <td>0</td>\n",
       "      <td>8</td>\n",
       "    </tr>\n",
       "    <tr>\n",
       "      <th>22310</th>\n",
       "      <td>Spain</td>\n",
       "      <td>Spain LIGA BBVA</td>\n",
       "      <td>UD Almería</td>\n",
       "      <td>FC Barcelona</td>\n",
       "      <td>2010-11-20</td>\n",
       "      <td>2010/2011</td>\n",
       "      <td>0</td>\n",
       "      <td>8</td>\n",
       "      <td>8</td>\n",
       "    </tr>\n",
       "    <tr>\n",
       "      <th>2420</th>\n",
       "      <td>England</td>\n",
       "      <td>England Premier League</td>\n",
       "      <td>Chelsea</td>\n",
       "      <td>Wigan Athletic</td>\n",
       "      <td>2010-05-09</td>\n",
       "      <td>2009/2010</td>\n",
       "      <td>8</td>\n",
       "      <td>0</td>\n",
       "      <td>8</td>\n",
       "    </tr>\n",
       "    <tr>\n",
       "      <th>24015</th>\n",
       "      <td>Spain</td>\n",
       "      <td>Spain LIGA BBVA</td>\n",
       "      <td>Real Madrid CF</td>\n",
       "      <td>Granada CF</td>\n",
       "      <td>2015-04-05</td>\n",
       "      <td>2014/2015</td>\n",
       "      <td>9</td>\n",
       "      <td>1</td>\n",
       "      <td>8</td>\n",
       "    </tr>\n",
       "    <tr>\n",
       "      <th>24247</th>\n",
       "      <td>Spain</td>\n",
       "      <td>Spain LIGA BBVA</td>\n",
       "      <td>Real Madrid CF</td>\n",
       "      <td>Rayo Vallecano</td>\n",
       "      <td>2015-12-20</td>\n",
       "      <td>2015/2016</td>\n",
       "      <td>10</td>\n",
       "      <td>2</td>\n",
       "      <td>8</td>\n",
       "    </tr>\n",
       "    <tr>\n",
       "      <th>4375</th>\n",
       "      <td>England</td>\n",
       "      <td>England Premier League</td>\n",
       "      <td>Southampton</td>\n",
       "      <td>Sunderland</td>\n",
       "      <td>2014-10-18</td>\n",
       "      <td>2014/2015</td>\n",
       "      <td>8</td>\n",
       "      <td>0</td>\n",
       "      <td>8</td>\n",
       "    </tr>\n",
       "    <tr>\n",
       "      <th>24450</th>\n",
       "      <td>Spain</td>\n",
       "      <td>Spain LIGA BBVA</td>\n",
       "      <td>RC Deportivo de La Coruña</td>\n",
       "      <td>FC Barcelona</td>\n",
       "      <td>2016-04-20</td>\n",
       "      <td>2015/2016</td>\n",
       "      <td>0</td>\n",
       "      <td>8</td>\n",
       "      <td>8</td>\n",
       "    </tr>\n",
       "    <tr>\n",
       "      <th>3338</th>\n",
       "      <td>England</td>\n",
       "      <td>England Premier League</td>\n",
       "      <td>Chelsea</td>\n",
       "      <td>Aston Villa</td>\n",
       "      <td>2012-12-23</td>\n",
       "      <td>2012/2013</td>\n",
       "      <td>8</td>\n",
       "      <td>0</td>\n",
       "      <td>8</td>\n",
       "    </tr>\n",
       "    <tr>\n",
       "      <th>24081</th>\n",
       "      <td>Spain</td>\n",
       "      <td>Spain LIGA BBVA</td>\n",
       "      <td>Córdoba CF</td>\n",
       "      <td>FC Barcelona</td>\n",
       "      <td>2015-05-02</td>\n",
       "      <td>2014/2015</td>\n",
       "      <td>0</td>\n",
       "      <td>8</td>\n",
       "      <td>8</td>\n",
       "    </tr>\n",
       "    <tr>\n",
       "      <th>2156</th>\n",
       "      <td>England</td>\n",
       "      <td>England Premier League</td>\n",
       "      <td>Tottenham Hotspur</td>\n",
       "      <td>Wigan Athletic</td>\n",
       "      <td>2009-11-22</td>\n",
       "      <td>2009/2010</td>\n",
       "      <td>9</td>\n",
       "      <td>1</td>\n",
       "      <td>8</td>\n",
       "    </tr>\n",
       "    <tr>\n",
       "      <th>25898</th>\n",
       "      <td>Switzerland</td>\n",
       "      <td>Switzerland Super League</td>\n",
       "      <td>BSC Young Boys</td>\n",
       "      <td>Lugano</td>\n",
       "      <td>2016-04-09</td>\n",
       "      <td>2015/2016</td>\n",
       "      <td>7</td>\n",
       "      <td>0</td>\n",
       "      <td>7</td>\n",
       "    </tr>\n",
       "  </tbody>\n",
       "</table>\n",
       "</div>"
      ],
      "text/plain": [
       "           country                    league                  home_team  \\\n",
       "13898  Netherlands    Netherlands Eredivisie                        PSV   \n",
       "7660        France            France Ligue 1               ES Troyes AC   \n",
       "20161     Scotland   Scotland Premier League                     Celtic   \n",
       "9761       Germany     Germany 1. Bundesliga           FC Bayern Munich   \n",
       "22984        Spain           Spain LIGA BBVA               FC Barcelona   \n",
       "22310        Spain           Spain LIGA BBVA                 UD Almería   \n",
       "2420       England    England Premier League                    Chelsea   \n",
       "24015        Spain           Spain LIGA BBVA             Real Madrid CF   \n",
       "24247        Spain           Spain LIGA BBVA             Real Madrid CF   \n",
       "4375       England    England Premier League                Southampton   \n",
       "24450        Spain           Spain LIGA BBVA  RC Deportivo de La Coruña   \n",
       "3338       England    England Premier League                    Chelsea   \n",
       "24081        Spain           Spain LIGA BBVA                 Córdoba CF   \n",
       "2156       England    England Premier League          Tottenham Hotspur   \n",
       "25898  Switzerland  Switzerland Super League             BSC Young Boys   \n",
       "\n",
       "                 away_team       date     season  home_team_goal  \\\n",
       "13898            Feyenoord 2010-10-24  2010/2011              10   \n",
       "7660   Paris Saint-Germain 2016-03-13  2015/2016               0   \n",
       "20161             Aberdeen 2010-11-06  2010/2011               9   \n",
       "9761          Hamburger SV 2015-02-14  2014/2015               8   \n",
       "22984           CA Osasuna 2011-09-17  2011/2012               8   \n",
       "22310         FC Barcelona 2010-11-20  2010/2011               0   \n",
       "2420        Wigan Athletic 2010-05-09  2009/2010               8   \n",
       "24015           Granada CF 2015-04-05  2014/2015               9   \n",
       "24247       Rayo Vallecano 2015-12-20  2015/2016              10   \n",
       "4375            Sunderland 2014-10-18  2014/2015               8   \n",
       "24450         FC Barcelona 2016-04-20  2015/2016               0   \n",
       "3338           Aston Villa 2012-12-23  2012/2013               8   \n",
       "24081         FC Barcelona 2015-05-02  2014/2015               0   \n",
       "2156        Wigan Athletic 2009-11-22  2009/2010               9   \n",
       "25898               Lugano 2016-04-09  2015/2016               7   \n",
       "\n",
       "       away_team_goal  goal_difference  \n",
       "13898               0               10  \n",
       "7660                9                9  \n",
       "20161               0                9  \n",
       "9761                0                8  \n",
       "22984               0                8  \n",
       "22310               8                8  \n",
       "2420                0                8  \n",
       "24015               1                8  \n",
       "24247               2                8  \n",
       "4375                0                8  \n",
       "24450               8                8  \n",
       "3338                0                8  \n",
       "24081               8                8  \n",
       "2156                1                8  \n",
       "25898               0                7  "
      ]
     },
     "execution_count": 24,
     "metadata": {},
     "output_type": "execute_result"
    }
   ],
   "source": [
    "df.sort_values('goal_difference', ascending=False)[:15]"
   ]
  },
  {
   "cell_type": "code",
   "execution_count": 45,
   "metadata": {},
   "outputs": [],
   "source": [
    "my_team = 'Arka Gdynia'\n",
    "my_team_matches = df[(df.home_team==my_team) | (df.away_team==my_team)]\n",
    "my_team_matches = my_team_matches.copy()\n",
    "my_team_matches['scored_goals'] = my_team_matches.apply(lambda x: x.home_team_goal if x.home_team == my_team else x.away_team_goal, axis=1)\n",
    "my_team_matches['lost_goals'] = my_team_matches.apply(lambda row: row.away_team_goal if row.home_team == my_team else row.away_team_goal, axis=1)\n",
    "\n",
    "\n",
    "\n"
   ]
  },
  {
   "cell_type": "code",
   "execution_count": 48,
   "metadata": {},
   "outputs": [
    {
     "data": {
      "text/plain": [
       "<AxesSubplot:xlabel='season'>"
      ]
     },
     "execution_count": 48,
     "metadata": {},
     "output_type": "execute_result"
    },
    {
     "data": {
      "image/png": "[encoded data removed]",
      "text/plain": [
       "<Figure size 432x288 with 1 Axes>"
      ]
     },
     "metadata": {
      "needs_background": "light"
     },
     "output_type": "display_data"
    }
   ],
   "source": [
    "my_team_matches.groupby('season').aggregate({ 'scored_goals': 'sum', 'lost_goals': 'sum'}).plot(kind='bar')"
   ]
  },
  {
   "cell_type": "code",
   "execution_count": 61,
   "metadata": {},
   "outputs": [
    {
     "data": {
      "text/plain": [
       "Belgium Jupiler League      2.801505\n",
       "England Premier League      2.710526\n",
       "France Ligue 1              2.443092\n",
       "Germany 1. Bundesliga       2.901552\n",
       "Italy Serie A               2.616838\n",
       "Netherlands Eredivisie      3.080882\n",
       "Poland Ekstraklasa          2.425000\n",
       "Portugal Liga ZON Sagres    2.534600\n",
       "Scotland Premier League     2.633772\n",
       "Spain LIGA BBVA             2.767105\n",
       "Switzerland Super League    2.929677\n",
       "dtype: float64"
      ]
     },
     "execution_count": 61,
     "metadata": {},
     "output_type": "execute_result"
    }
   ],
   "source": [
    "# Dodaj nowąkolumnę do df w której zsumujesz wszystkie bramki strzelone w meczach\n",
    "df['total_goals'] = df['home_team_goal'] + df['away_team_goal']\n",
    "goals_per_league = df.groupby('league').agg({'total_goals': 'sum'})\n",
    "matches_per_league = df.league.value_counts()\n",
    "\n",
    "goals_per_league.total_goals / matches_per_league"
   ]
  },
  {
   "cell_type": "code",
   "execution_count": 64,
   "metadata": {},
   "outputs": [
    {
     "data": {
      "text/plain": [
       "<AxesSubplot:xlabel='league'>"
      ]
     },
     "execution_count": 64,
     "metadata": {},
     "output_type": "execute_result"
    },
    {
     "data": {
      "image/png": "[encoded data removed]",
      "text/plain": [
       "<Figure size 432x288 with 1 Axes>"
      ]
     },
     "metadata": {
      "needs_background": "light"
     },
     "output_type": "display_data"
    }
   ],
   "source": [
    "goals_per_league = df.groupby('league').agg({'total_goals': 'mean'})\n",
    "goals_per_league.plot(kind='bar')"
   ]
  }
 ],
 "metadata": {
  "kernelspec": {
   "display_name": "Python 3",
   "language": "python",
   "name": "python3"
  },
  "language_info": {
   "codemirror_mode": {
    "name": "ipython",
    "version": 3
   },
   "file_extension": ".py",
   "mimetype": "text/x-python",
   "name": "python",
   "nbconvert_exporter": "python",
   "pygments_lexer": "ipython3",
   "version": "3.9.0"
  }
 },
 "nbformat": 4,
 "nbformat_minor": 4
}
